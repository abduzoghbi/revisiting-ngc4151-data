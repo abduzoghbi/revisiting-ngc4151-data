{
 "cells": [
  {
   "cell_type": "markdown",
   "metadata": {},
   "source": [
    "Using:\n",
    "- `heasoft 6.25`\n",
    "- `xspec 12.10.1`\n",
    "- `xmmsas_20180620_1732-17.0.0`\n",
    "- `ccf` update `20-12-2018`"
   ]
  },
  {
   "cell_type": "markdown",
   "metadata": {},
   "source": [
    "# XMM Data\n",
    "\n",
    "## Download the data\n",
    "- Use xamin to create a list of all obsids and save them to data/xmm/obsids.txt, with obsids being the first column"
   ]
  },
  {
   "cell_type": "code",
   "execution_count": 1,
   "metadata": {},
   "outputs": [],
   "source": [
    "import numpy as np\n",
    "import os\n",
    "import subprocess as subp\n",
    "import glob\n",
    "import time\n",
    "import re\n",
    "import aztools as az\n",
    "from ftplib import FTP\n",
    "from astropy.io import fits as pyfits\n",
    "import astropy.time as atime"
   ]
  },
  {
   "cell_type": "code",
   "execution_count": 4,
   "metadata": {},
   "outputs": [
    {
     "name": "stdout",
     "output_type": "stream",
     "text": [
      "There are 30 observations\n",
      "0112310101, 0112310501, 0112830201, 0112830501, 0112830601, 0143500101, 0143500201, 0143500301, 0402660101, 0402660201, 0402660301, 0657840101, 0657840201, 0657840301, 0657840401, 0657840501, 0679780101, 0679780201, 0679780301, 0679780401, 0679780501, 0761670101, 0761670201, 0761670301, 0761670401, 0761670501, 0761670601, 0761670701, 0761670801, 0761670901\n"
     ]
    }
   ],
   "source": [
    "base_dir = '/home/abzoghbi/data/ngc4151/spec_analysis'\n",
    "data_dir = 'data/xmm'\n",
    "os.system('mkdir -p %s'%data_dir)\n",
    "obsids = ['0112310101', '0112310501', '0112830201', '0112830501', '0112830601',\n",
    "          '0143500101', '0143500201', '0143500301', '0402660101', '0402660201',\n",
    "          '0402660301', '0657840101', '0657840201', '0657840301', '0657840401',\n",
    "          '0657840501', '0679780101', '0679780201', '0679780301', '0679780401',\n",
    "          '0679780501', '0761670101', '0761670201', '0761670301', '0761670401',\n",
    "          '0761670501', '0761670601', '0761670701', '0761670801', '0761670901']\n",
    "obsids = np.array(obsids)\n",
    "print('There are %d observations'%len(obsids))\n",
    "print(', '.join(obsids))"
   ]
  },
  {
   "cell_type": "markdown",
   "metadata": {},
   "source": [
    "- We use `ftplib` to get the data from heasarc (may take some time)"
   ]
  },
  {
   "cell_type": "code",
   "execution_count": 5,
   "metadata": {},
   "outputs": [
    {
     "name": "stdout",
     "output_type": "stream",
     "text": [
      "failed downloading 0657840501\n"
     ]
    }
   ],
   "source": [
    "os.chdir(base_dir)\n",
    "ftp = FTP('legacy.gsfc.nasa.gov', 'anonymous', 'anonymous@gmail.com')\n",
    "ftp.cwd('xmm/data/rev0')\n",
    "failed = []\n",
    "for o in obsids:\n",
    "    tar_file = '%s/%s.tar'%(data_dir, o)\n",
    "    # download file only if not already downloaded\n",
    "    if not os.path.exists(tar_file):\n",
    "        try:\n",
    "            ftp.retrbinary('RETR %s.tar'%o ,open(tar_file, 'wb').write)\n",
    "        except:\n",
    "            print('failed downloading %s'%o)\n",
    "            os.system('rm %s >/dev/null 2>&1'%tar_file)\n",
    "            failed.append(o)\n"
   ]
  },
  {
   "cell_type": "code",
   "execution_count": 6,
   "metadata": {},
   "outputs": [
    {
     "name": "stdout",
     "output_type": "stream",
     "text": [
      "There are 29 observations\n",
      "0112310101, 0112310501, 0112830201, 0112830501, 0112830601, 0143500101, 0143500201, 0143500301, 0402660101, 0402660201, 0402660301, 0657840101, 0657840201, 0657840301, 0657840401, 0679780101, 0679780201, 0679780301, 0679780401, 0679780501, 0761670101, 0761670201, 0761670301, 0761670401, 0761670501, 0761670601, 0761670701, 0761670801, 0761670901\n"
     ]
    }
   ],
   "source": [
    "for f in failed:\n",
    "    obsids = np.delete(obsids, np.argwhere(obsids==f)[0,0])\n",
    "print('There are %d observations'%len(obsids))\n",
    "print(', '.join(obsids))"
   ]
  },
  {
   "cell_type": "markdown",
   "metadata": {},
   "source": [
    "## Process the PN data\n",
    "We use our shell script `xmm_process`. Split it into two parts so we can run things in parallel across observations. The first creates `ccf.cif`, and the second creates the event files"
   ]
  },
  {
   "cell_type": "code",
   "execution_count": 7,
   "metadata": {},
   "outputs": [],
   "source": [
    "\n",
    "os.chdir('%s/%s'%(base_dir, data_dir))\n",
    "os.system('mkdir -p log')\n",
    "procs = []\n",
    "for o in obsids:\n",
    "    if os.path.exists(o): continue\n",
    "    os.system('tar -xf %s.tar'%o)\n",
    "    os.chdir(o)\n",
    "    os.system('rm -r 3XMM om_mosaic PPS >/dev/null 2>&1')\n",
    "    os.system('mv ODF odf')\n",
    "    os.chdir('odf')\n",
    "    if not os.path.exists('ccf.cif'):\n",
    "        os.system('gzip -d *gz')\n",
    "        log_file = '../../log/%s_process.log'%o\n",
    "        proc = subp.Popen(['/bin/bash', '-i', '-c', 'sasinit; xmm_process > %s 2>&1'%log_file])\n",
    "        procs.append(proc)\n",
    "    os.chdir('../..')\n",
    "\n",
    "# wait for the tasks to end\n",
    "for p in procs: p.wait()"
   ]
  },
  {
   "cell_type": "code",
   "execution_count": 6,
   "metadata": {},
   "outputs": [],
   "source": [
    "os.chdir('%s/%s'%(base_dir, data_dir))\n",
    "procs = []\n",
    "for o in obsids:\n",
    "    os.chdir(o)\n",
    "    os.system('mkdir -p pn')\n",
    "    os.chdir('pn')\n",
    "    if len(glob.glob('*EVL*')) == 0 and len(glob.glob('pn.fits')) == 0:\n",
    "        log_file = '../../log/%s_process_pn.log'%o\n",
    "        p = subp.Popen(['/bin/bash', '-i', '-c', 'sasinit; xmm_process pn > %s 2>&1'%log_file])\n",
    "        procs.append(p)\n",
    "    os.chdir('../..')\n",
    "\n",
    "# wait for the tasks to end\n",
    "for p in procs: p.wait()"
   ]
  },
  {
   "cell_type": "markdown",
   "metadata": {},
   "source": [
    "## Spectral Extraction\n",
    "### Standard Filtering & Region\n",
    "- `xmm_filter.py` does standard background filtering and opens `ds9` and requrest a region file called `ds9.reg`, which contrains the source and background regions in **Physical** coordinate units, so `xmm_spec.py` can understand it.\n",
    "- Here, we use an annular region for the source, so later we can check for pileup; at this stage we set the inner radius to 0 and outer radius to 50 arcsec. The background is circular with radius of 50 arcsec."
   ]
  },
  {
   "cell_type": "code",
   "execution_count": 33,
   "metadata": {},
   "outputs": [
    {
     "name": "stdout",
     "output_type": "stream",
     "text": [
      "-- obs 0112310101 --\n",
      "-- obs 0112310501 --\n",
      "-- obs 0112830201 --\n",
      "-- obs 0112830501 --\n",
      "-- obs 0112830601 --\n",
      "-- obs 0143500101 --\n",
      "-- obs 0143500201 --\n",
      "-- obs 0143500301 --\n",
      "-- obs 0402660101 --\n",
      "-- obs 0402660201 --\n",
      "-- obs 0402660301 --\n",
      "-- obs 0657840101 --\n",
      "-- obs 0657840201 --\n",
      "-- obs 0657840301 --\n",
      "-- obs 0657840401 --\n",
      "-- obs 0679780101 --\n",
      "-- obs 0679780201 --\n",
      "-- obs 0679780301 --\n",
      "-- obs 0679780401 --\n",
      "-- obs 0679780501 --\n",
      "-- obs 0761670101 --\n",
      "-- obs 0761670201 --\n",
      "-- obs 0761670301 --\n",
      "-- obs 0761670401 --\n",
      "-- obs 0761670501 --\n",
      "-- obs 0761670601 --\n",
      "-- obs 0761670701 --\n",
      "-- obs 0761670801 --\n",
      "-- obs 0761670901 --\n"
     ]
    }
   ],
   "source": [
    "os.chdir('%s/%s'%(base_dir, data_dir))\n",
    "exists = os.path.exists\n",
    "for o in obsids:\n",
    "    print('-- obs %s --'%o)\n",
    "    os.chdir('%s/pn'%o)\n",
    "    os.system('ln -s %s pn.fits'%glob.glob('*EVL*')[0])\n",
    "    os.system('mkdir -p spec')\n",
    "    os.chdir('spec')\n",
    "    if not exists('pn_filtered.fits') or not exists('ds9.reg'):\n",
    "        # check if we have a saved region file, or a temporary region file\n",
    "        # for faster loading\n",
    "        saved_reg = '../../../log/%s_ds9.reg'%o\n",
    "        if exists(saved_reg):\n",
    "            os.system('cp %s ds9.reg'%saved_reg)\n",
    "            region = ''\n",
    "        else:\n",
    "            region = '--region'\n",
    "            tmp_reg = '../../../log/ds9.reg'\n",
    "            if exists(tmp_reg):\n",
    "                os.system('cp %s tmp.reg'%tmp_reg)\n",
    "\n",
    "        subp.call(['/bin/bash', '-i', '-c', \n",
    "                'sasinit; xmm_filter.py ../pn.fits pn --std %s'%region])\n",
    "        if not exists(saved_reg):\n",
    "            os.system('cp ds9.reg %s'%tmp_reg) \n",
    "    os.chdir('../../..')\n",
    "    "
   ]
  },
  {
   "cell_type": "markdown",
   "metadata": {},
   "source": [
    "- Some of the observations had no data, so we don't consider them anymore:\n",
    "```\n",
    "0112310501, 0112830601, 0402660301, 0679780501: No PN science exposure\n",
    "0657840101: High background\n",
    "```\n",
    "    \n"
   ]
  },
  {
   "cell_type": "code",
   "execution_count": 8,
   "metadata": {},
   "outputs": [
    {
     "name": "stdout",
     "output_type": "stream",
     "text": [
      "There are 24 observations\n",
      "0112310101, 0112830201, 0112830501, 0143500101, 0143500201, 0143500301, 0402660101, 0402660201, 0657840201, 0657840301, 0657840401, 0679780101, 0679780201, 0679780301, 0679780401, 0761670101, 0761670201, 0761670301, 0761670401, 0761670501, 0761670601, 0761670701, 0761670801, 0761670901\n"
     ]
    }
   ],
   "source": [
    "no_data = ['0112310501', '0112830601', '0402660301', '0679780501', '0657840101']\n",
    "obsids = np.array([o for o in obsids if not o in no_data])\n",
    "print('There are %d observations'%len(obsids))\n",
    "print(', '.join(obsids))"
   ]
  },
  {
   "cell_type": "markdown",
   "metadata": {},
   "source": [
    "### Check for pileup\n",
    "We use `epatplot` to check for pileup starting with an annulus source region with inner radius of 0. A pileup is present if the fraction of expected to predicted single or doubles events deviates from 1 by more than 3 sigma. If there is pileup, we increase the inner radius of the annulus to 3 arcsec and repeat the increase in steps of 0.5 arcsec, until the fractions are consistent with 1."
   ]
  },
  {
   "cell_type": "code",
   "execution_count": 35,
   "metadata": {},
   "outputs": [
    {
     "name": "stdout",
     "output_type": "stream",
     "text": [
      "obs_num | obsid | fractions | radius | pileup?\n",
      "   1 | 0112310101 |  s: 1.005 +/- 0.008   d: 0.990 +/- 0.011 | 0.0 | 0\n",
      "   2 | 0112830201 |  s: 0.993 +/- 0.005   d: 1.025 +/- 0.008 | 0.0 | 0\n",
      "   3 | 0112830501 |  s: 0.983 +/- 0.008   d: 1.053 +/- 0.013 | 0.0 | 0\n",
      "   4 | 0143500101 |  s: 1.006 +/- 0.007   d: 0.980 +/- 0.009 | 0.0 | 0\n",
      "   5 | 0143500201 |  s: 1.013 +/- 0.007   d: 0.963 +/- 0.009 | 0.0 | 1\n",
      "   5 | 0143500201 |  s: 1.001 +/- 0.007   d: 0.993 +/- 0.010 | 3.0 | 0\n",
      "   6 | 0143500301 |  s: 1.009 +/- 0.006   d: 0.977 +/- 0.008 | 0.0 | 0\n",
      "   7 | 0402660101 |  s: 1.005 +/- 0.007   d: 0.990 +/- 0.010 | 0.0 | 0\n",
      "   8 | 0402660201 |  s: 1.023 +/- 0.006   d: 0.942 +/- 0.008 | 0.0 | 1\n",
      "   8 | 0402660201 |  s: 1.012 +/- 0.006   d: 0.971 +/- 0.009 | 3.0 | 1\n",
      "   8 | 0402660201 |  s: 1.011 +/- 0.007   d: 0.972 +/- 0.009 | 3.5 | 1\n",
      "   8 | 0402660201 |  s: 1.010 +/- 0.007   d: 0.975 +/- 0.009 | 4.0 | 0\n",
      "   9 | 0657840201 |  s: 1.003 +/- 0.012   d: 0.998 +/- 0.017 | 0.0 | 0\n",
      "  10 | 0657840301 |  s: 1.019 +/- 0.009   d: 0.957 +/- 0.012 | 0.0 | 1\n",
      "  10 | 0657840301 |  s: 1.009 +/- 0.010   d: 0.979 +/- 0.014 | 3.0 | 0\n",
      "  11 | 0657840401 |  s: 1.004 +/- 0.010   d: 0.982 +/- 0.014 | 0.0 | 0\n",
      "  12 | 0679780101 |  s: 1.015 +/- 0.011   d: 0.959 +/- 0.016 | 0.0 | 0\n",
      "  13 | 0679780201 |  s: 1.022 +/- 0.011   d: 0.942 +/- 0.015 | 0.0 | 1\n",
      "  13 | 0679780201 |  s: 1.006 +/- 0.012   d: 0.982 +/- 0.017 | 3.0 | 0\n",
      "  14 | 0679780301 |  s: 1.012 +/- 0.012   d: 0.972 +/- 0.016 | 0.0 | 0\n",
      "  15 | 0679780401 |  s: 1.010 +/- 0.012   d: 0.970 +/- 0.016 | 0.0 | 0\n",
      "  16 | 0761670101 |  s: 1.018 +/- 0.007   d: 0.953 +/- 0.010 | 0.0 | 1\n",
      "  16 | 0761670101 |  s: 1.008 +/- 0.008   d: 0.977 +/- 0.011 | 3.0 | 0\n",
      "  17 | 0761670201 |  s: 1.018 +/- 0.006   d: 0.954 +/- 0.009 | 0.0 | 1\n",
      "  17 | 0761670201 |  s: 1.005 +/- 0.007   d: 0.989 +/- 0.010 | 3.0 | 0\n",
      "  18 | 0761670301 |  s: 1.017 +/- 0.006   d: 0.959 +/- 0.009 | 0.0 | 1\n",
      "  18 | 0761670301 |  s: 1.003 +/- 0.007   d: 0.998 +/- 0.010 | 3.0 | 0\n",
      "  19 | 0761670401 |  s: 1.016 +/- 0.006   d: 0.961 +/- 0.008 | 0.0 | 1\n",
      "  19 | 0761670401 |  s: 1.005 +/- 0.006   d: 0.988 +/- 0.009 | 3.0 | 0\n",
      "  20 | 0761670501 |  s: 1.012 +/- 0.007   d: 0.972 +/- 0.009 | 0.0 | 1\n",
      "  20 | 0761670501 |  s: 1.004 +/- 0.007   d: 0.992 +/- 0.010 | 3.0 | 0\n",
      "  21 | 0761670601 |  s: 1.017 +/- 0.006   d: 0.961 +/- 0.009 | 0.0 | 1\n",
      "  21 | 0761670601 |  s: 1.009 +/- 0.007   d: 0.981 +/- 0.010 | 3.0 | 0\n",
      "  22 | 0761670701 |  s: 1.010 +/- 0.006   d: 0.977 +/- 0.008 | 0.0 | 0\n",
      "  23 | 0761670801 |  s: 1.019 +/- 0.006   d: 0.951 +/- 0.008 | 0.0 | 1\n",
      "  23 | 0761670801 |  s: 1.004 +/- 0.006   d: 0.991 +/- 0.009 | 3.0 | 0\n",
      "  24 | 0761670901 |  s: 1.006 +/- 0.006   d: 0.985 +/- 0.008 | 0.0 | 0\n"
     ]
    }
   ],
   "source": [
    "os.chdir('%s/%s'%(base_dir, data_dir))\n",
    "print('obs_num | obsid | fractions | radius | pileup?')\n",
    "for iobs, o in enumerate(obsids):\n",
    "    if os.path.exists('%s/pn/pileup'%o): continue\n",
    "    os.chdir('%s/pn'%o)\n",
    "    os.system('mkdir -p pileup')\n",
    "    os.chdir('pileup')\n",
    "    \n",
    "    pileup = True\n",
    "    radius = 0.0\n",
    "    reg_lines = open('../spec/ds9.reg').readlines()\n",
    "    if 'background' in reg_lines[-1]:\n",
    "        reg_lines = reg_lines[:-2] + [reg_lines[-1], reg_lines[-2]]\n",
    "    g = re.match('\\(.*\\)\\n', reg_lines[-1])\n",
    "    dum_rad = reg_lines[-1].split(',')[2]\n",
    "    reg_lines[-1] = reg_lines[-1].replace(',' + dum_rad + ',', ',%g,')\n",
    "    reg_text = ''.join(reg_lines)\n",
    "    \n",
    "\n",
    "    while pileup:\n",
    "        with open('ds9.reg', 'w') as fp: fp.write(reg_text%radius)\n",
    "        subp.call(['/bin/bash', '-i', '-c', \n",
    "           'sasinit; xmm_spec.py ../pn.fits ds9.reg --check_pileup > pileup.log 2>&1'])\n",
    "        line = [l for l in open('pileup.log').readlines() if '+/-' in l][0]\n",
    "        frac = np.array(np.array(line.split())[[2,4,6,8]], np.double)\n",
    "        pileup = (frac[0] > 1+3*frac[1]) or (frac[2] < 1-3*frac[3])\n",
    "        # 1 arcsec = 20 pixels\n",
    "        text = '{:4d} | {} | {} | {} | {:d}'.format(iobs+1, o, line[10:-1], radius/20., pileup)\n",
    "        print(text)\n",
    "        if pileup: radius = np.max([3.0*20, radius+10])\n",
    "    os.chdir('../spec')\n",
    "    os.system('cp ds9.reg ds9.reg.0')\n",
    "    os.system('cp ../pileup/ds9.reg ds9.reg')\n",
    "    os.chdir('../../../')\n",
    "            "
   ]
  },
  {
   "cell_type": "markdown",
   "metadata": {},
   "source": [
    "### Extract the Spectra"
   ]
  },
  {
   "cell_type": "code",
   "execution_count": 36,
   "metadata": {},
   "outputs": [],
   "source": [
    "os.chdir('%s/%s'%(base_dir, data_dir))\n",
    "procs = []\n",
    "for iobs, o in enumerate(obsids):\n",
    "    os.chdir('%s/pn/spec'%o)\n",
    "    if len(glob.glob('spec*grp')) == 0:\n",
    "        time.sleep(1)\n",
    "        p = subp.Popen(['/bin/bash', '-i', '-c', \n",
    "           'sasinit; xmm_spec.py pn_filtered.fits ds9.reg -o spec_%d > spec.log 2>&1'%(iobs+1)])\n",
    "        procs.append(p)\n",
    "    os.chdir('../../..')\n",
    "# wait for the tasks to end\n",
    "for p in procs: p.wait()"
   ]
  },
  {
   "cell_type": "markdown",
   "metadata": {},
   "source": [
    "### Extract spectra from full region"
   ]
  },
  {
   "cell_type": "code",
   "execution_count": 37,
   "metadata": {},
   "outputs": [],
   "source": [
    "os.chdir('%s/%s'%(base_dir, data_dir))\n",
    "procs = []\n",
    "for iobs, o in enumerate(obsids):\n",
    "    os.chdir('%s/pn'%o)\n",
    "    os.system('mkdir -p spec0')\n",
    "    os.chdir('spec0')\n",
    "    \n",
    "    if len(glob.glob('spec0*grp')) == 0:\n",
    "        # use region from spec, but with no central region extracion #\n",
    "        reg_lines = open('../spec/ds9.reg').readlines()\n",
    "        if 'background' in reg_lines[-1]:\n",
    "            reg_lines = reg_lines[:-2] + [reg_lines[-1], reg_lines[-2]]\n",
    "        g = re.match('\\\\\\\\(.*\\\\\\\\)\\\\\\\\n', reg_lines[-1])\n",
    "        dum_rad = reg_lines[-1].split(',')[2]\n",
    "        reg_lines[-1] = reg_lines[-1].replace(',' + dum_rad + ',', ',0,')\n",
    "        with open('ds9.reg', 'w') as fp: fp.write(''.join(reg_lines))\n",
    "        \n",
    "    \n",
    "        time.sleep(1)\n",
    "        p = subp.Popen(['/bin/bash', '-i', '-c', \n",
    "           'sasinit; xmm_spec.py ../spec/pn_filtered.fits ds9.reg -o spec0_%d > spec.log 2>&1'%(iobs+1)])\n",
    "        procs.append(p)\n",
    "    os.chdir('../../..')\n",
    "# wait for the tasks to end\n",
    "for p in procs: p.wait()"
   ]
  },
  {
   "cell_type": "markdown",
   "metadata": {},
   "source": [
    "---\n",
    "---\n",
    "## Process MOS Data"
   ]
  },
  {
   "cell_type": "code",
   "execution_count": 38,
   "metadata": {
    "scrolled": true
   },
   "outputs": [],
   "source": [
    "os.chdir('%s/%s'%(base_dir, data_dir))\n",
    "procs = []\n",
    "for o in obsids:\n",
    "    os.chdir(o)\n",
    "    os.system('mkdir -p mos')\n",
    "    os.chdir('mos')\n",
    "    if len(glob.glob('*EVL*')) == 0:\n",
    "        log_file = '../../log/%s_process_mos.log'%o\n",
    "        time.sleep(1)\n",
    "        p = subp.Popen(['/bin/bash', '-i', '-c', 'sasinit; xmm_process mos > %s 2>&1'%log_file])\n",
    "        procs.append(p)\n",
    "    os.chdir('../..')\n",
    "# wait for the tasks to end\n",
    "for p in procs: p.wait()"
   ]
  },
  {
   "cell_type": "markdown",
   "metadata": {},
   "source": [
    "## Spectral Extraction\n",
    "### Standard filtering\n",
    "Similar to pn case"
   ]
  },
  {
   "cell_type": "code",
   "execution_count": 39,
   "metadata": {},
   "outputs": [
    {
     "name": "stdout",
     "output_type": "stream",
     "text": [
      "-- obs 0112310101 --\n",
      "-- obs 0112830201 --\n",
      "-- obs 0112830501 --\n",
      "-- obs 0143500101 --\n",
      "-- obs 0143500201 --\n",
      "-- obs 0143500301 --\n",
      "-- obs 0402660101 --\n",
      "-- obs 0402660201 --\n",
      "-- obs 0657840201 --\n",
      "-- obs 0657840301 --\n",
      "-- obs 0657840401 --\n",
      "-- obs 0679780101 --\n",
      "-- obs 0679780201 --\n",
      "-- obs 0679780301 --\n",
      "-- obs 0679780401 --\n",
      "-- obs 0761670101 --\n",
      "-- obs 0761670201 --\n",
      "-- obs 0761670301 --\n",
      "-- obs 0761670401 --\n",
      "-- obs 0761670501 --\n",
      "-- obs 0761670601 --\n",
      "-- obs 0761670701 --\n",
      "-- obs 0761670801 --\n",
      "-- obs 0761670901 --\n"
     ]
    }
   ],
   "source": [
    "# wait until above is done! #\n",
    "os.chdir('%s/%s'%(base_dir, data_dir))\n",
    "exists = os.path.exists\n",
    "for o in obsids:\n",
    "    print('-- obs %s --'%o)\n",
    "    os.chdir('%s/mos'%o)\n",
    "    os.system('ln -s %s m1.fits'%glob.glob('*M1*EVL*')[0])\n",
    "    os.system('ln -s %s m2.fits'%glob.glob('*M2*EVL*')[0])\n",
    "    os.system('mkdir -p spec')\n",
    "    os.chdir('spec')\n",
    "    for m in ['m1', 'm2']:\n",
    "        # this line comes after first run; these 2 obs have now m1 data\n",
    "        if m == 'm1' and o in ['0657840201', '0761670401']: continue\n",
    "        if not exists('%s_filtered.fits'%m) or not exists('ds9_%s.reg'%m):\n",
    "            # check if we have a saved region file, or a temporary region file\n",
    "            # for faster loading\n",
    "            saved_reg = '../../../log/%s_ds9_%s.reg'%(o, m)\n",
    "            if exists(saved_reg):\n",
    "                os.system('cp %s ds9_%s.reg'%(saved_reg, m))\n",
    "                region = ''\n",
    "            else:\n",
    "                region = '--region'\n",
    "                tmp_reg = '../../pn/spec/ds9.reg'\n",
    "                if exists(tmp_reg):\n",
    "                    os.system('cp %s tmp.reg'%tmp_reg)\n",
    "\n",
    "            subp.call(['/bin/bash', '-i', '-c', \n",
    "                    'sasinit; xmm_filter.py ../%s.fits %s --std %s'%(m, m, region)]) \n",
    "    os.chdir('../../..')"
   ]
  },
  {
   "cell_type": "markdown",
   "metadata": {},
   "source": [
    "```\n",
    "No mos-1 data in 0657840201, 0761670401\n",
    "```"
   ]
  },
  {
   "cell_type": "markdown",
   "metadata": {},
   "source": [
    "### Check for pileup"
   ]
  },
  {
   "cell_type": "code",
   "execution_count": 40,
   "metadata": {
    "scrolled": true
   },
   "outputs": [
    {
     "name": "stdout",
     "output_type": "stream",
     "text": [
      "obs_num | obsid | fractions | radius | pileup?\n",
      "   1-m1 | 0112310101 |  s: 1.021 +/- 0.012   d: 0.944 +/- 0.020 | 0.0 | 0\n",
      "   1-m2 | 0112310101 |  s: 1.032 +/- 0.012   d: 0.893 +/- 0.020 | 0.0 | 1\n",
      "   1-m2 | 0112310101 |  s: 1.033 +/- 0.014   d: 0.891 +/- 0.022 | 3.0 | 1\n",
      "   1-m2 | 0112310101 |  s: 1.033 +/- 0.014   d: 0.891 +/- 0.023 | 3.5 | 1\n",
      "   1-m2 | 0112310101 |  s: 1.033 +/- 0.014   d: 0.893 +/- 0.023 | 4.0 | 1\n",
      "   1-m2 | 0112310101 |  s: 1.033 +/- 0.015   d: 0.893 +/- 0.024 | 4.5 | 1\n",
      "   1-m2 | 0112310101 |  s: 1.032 +/- 0.015   d: 0.898 +/- 0.025 | 5.0 | 1\n",
      "   1-m2 | 0112310101 |  s: 1.033 +/- 0.016   d: 0.895 +/- 0.025 | 5.5 | 1\n",
      "   1-m2 | 0112310101 |  s: 1.033 +/- 0.016   d: 0.896 +/- 0.026 | 6.0 | 1\n",
      "   2-m1 | 0112830201 |  s: 1.021 +/- 0.009   d: 0.947 +/- 0.016 | 0.0 | 1\n",
      "   2-m1 | 0112830201 |  s: 1.022 +/- 0.010   d: 0.942 +/- 0.017 | 3.0 | 1\n",
      "   2-m1 | 0112830201 |  s: 1.022 +/- 0.010   d: 0.940 +/- 0.017 | 3.5 | 1\n",
      "   2-m1 | 0112830201 |  s: 1.021 +/- 0.010   d: 0.942 +/- 0.018 | 4.0 | 1\n",
      "   2-m1 | 0112830201 |  s: 1.021 +/- 0.011   d: 0.942 +/- 0.018 | 4.5 | 1\n",
      "   2-m1 | 0112830201 |  s: 1.020 +/- 0.011   d: 0.946 +/- 0.018 | 5.0 | 0\n",
      "   2-m2 | 0112830201 |  s: 1.040 +/- 0.010   d: 0.870 +/- 0.015 | 0.0 | 1\n",
      "   2-m2 | 0112830201 |  s: 1.040 +/- 0.010   d: 0.864 +/- 0.016 | 3.0 | 1\n",
      "   2-m2 | 0112830201 |  s: 1.041 +/- 0.010   d: 0.862 +/- 0.016 | 3.5 | 1\n",
      "   2-m2 | 0112830201 |  s: 1.041 +/- 0.011   d: 0.864 +/- 0.017 | 4.0 | 1\n",
      "   2-m2 | 0112830201 |  s: 1.041 +/- 0.011   d: 0.865 +/- 0.017 | 4.5 | 1\n",
      "   2-m2 | 0112830201 |  s: 1.041 +/- 0.011   d: 0.865 +/- 0.018 | 5.0 | 1\n",
      "   2-m2 | 0112830201 |  s: 1.041 +/- 0.011   d: 0.865 +/- 0.018 | 5.5 | 1\n",
      "   2-m2 | 0112830201 |  s: 1.042 +/- 0.012   d: 0.862 +/- 0.018 | 6.0 | 1\n",
      "   3-m1 | 0112830501 |  s: 1.024 +/- 0.016   d: 0.943 +/- 0.026 | 0.0 | 0\n",
      "   3-m2 | 0112830501 |  s: 1.045 +/- 0.016   d: 0.848 +/- 0.025 | 0.0 | 1\n",
      "   3-m2 | 0112830501 |  s: 1.046 +/- 0.017   d: 0.843 +/- 0.027 | 3.0 | 1\n",
      "   3-m2 | 0112830501 |  s: 1.046 +/- 0.018   d: 0.845 +/- 0.027 | 3.5 | 1\n",
      "   3-m2 | 0112830501 |  s: 1.044 +/- 0.018   d: 0.853 +/- 0.028 | 4.0 | 1\n",
      "   3-m2 | 0112830501 |  s: 1.045 +/- 0.018   d: 0.849 +/- 0.029 | 4.5 | 1\n",
      "   3-m2 | 0112830501 |  s: 1.043 +/- 0.019   d: 0.856 +/- 0.029 | 5.0 | 1\n",
      "   3-m2 | 0112830501 |  s: 1.044 +/- 0.019   d: 0.852 +/- 0.030 | 5.5 | 1\n",
      "   3-m2 | 0112830501 |  s: 1.044 +/- 0.020   d: 0.853 +/- 0.031 | 6.0 | 1\n",
      "   4-m1 | 0143500101 |  s: 0.989 +/- 0.010   d: 1.063 +/- 0.019 | 0.0 | 0\n",
      "   4-m2 | 0143500101 |  s: 1.010 +/- 0.011   d: 0.966 +/- 0.018 | 0.0 | 0\n",
      "   5-m1 | 0143500201 |  s: 0.996 +/- 0.010   d: 1.018 +/- 0.018 | 0.0 | 0\n",
      "   5-m2 | 0143500201 |  s: 1.008 +/- 0.010   d: 0.981 +/- 0.018 | 0.0 | 0\n",
      "   6-m1 | 0143500301 |  s: 0.988 +/- 0.009   d: 1.054 +/- 0.016 | 0.0 | 0\n",
      "   6-m2 | 0143500301 |  s: 1.007 +/- 0.009   d: 0.975 +/- 0.015 | 0.0 | 0\n",
      "   7-m1 | 0402660101 |  s: 1.011 +/- 0.012   d: 0.994 +/- 0.020 | 0.0 | 0\n",
      "   7-m2 | 0402660101 |  s: 1.035 +/- 0.011   d: 0.871 +/- 0.018 | 0.0 | 1\n",
      "   7-m2 | 0402660101 |  s: 1.032 +/- 0.013   d: 0.884 +/- 0.021 | 3.0 | 1\n",
      "   7-m2 | 0402660101 |  s: 1.032 +/- 0.013   d: 0.883 +/- 0.021 | 3.5 | 1\n",
      "   7-m2 | 0402660101 |  s: 1.033 +/- 0.013   d: 0.880 +/- 0.022 | 4.0 | 1\n",
      "   7-m2 | 0402660101 |  s: 1.032 +/- 0.014   d: 0.880 +/- 0.022 | 4.5 | 1\n",
      "   7-m2 | 0402660101 |  s: 1.032 +/- 0.014   d: 0.878 +/- 0.023 | 5.0 | 1\n",
      "   7-m2 | 0402660101 |  s: 1.031 +/- 0.014   d: 0.885 +/- 0.024 | 5.5 | 1\n",
      "   7-m2 | 0402660101 |  s: 1.029 +/- 0.015   d: 0.895 +/- 0.024 | 6.0 | 1\n",
      "   8-m1 | 0402660201 |  s: 1.011 +/- 0.011   d: 0.984 +/- 0.020 | 0.0 | 0\n",
      "   8-m2 | 0402660201 |  s: 1.025 +/- 0.011   d: 0.913 +/- 0.019 | 0.0 | 1\n",
      "   8-m2 | 0402660201 |  s: 1.026 +/- 0.012   d: 0.913 +/- 0.021 | 3.0 | 1\n",
      "   8-m2 | 0402660201 |  s: 1.027 +/- 0.013   d: 0.911 +/- 0.021 | 3.5 | 1\n",
      "   8-m2 | 0402660201 |  s: 1.025 +/- 0.013   d: 0.923 +/- 0.022 | 4.0 | 1\n",
      "   8-m2 | 0402660201 |  s: 1.025 +/- 0.013   d: 0.924 +/- 0.022 | 4.5 | 1\n",
      "   8-m2 | 0402660201 |  s: 1.025 +/- 0.014   d: 0.922 +/- 0.023 | 5.0 | 1\n",
      "   8-m2 | 0402660201 |  s: 1.027 +/- 0.014   d: 0.918 +/- 0.024 | 5.5 | 1\n",
      "   8-m2 | 0402660201 |  s: 1.027 +/- 0.015   d: 0.918 +/- 0.024 | 6.0 | 1\n",
      "no ../spec/ds9_m1.reg; skipping !\n",
      "   9-m2 | 0657840201 |  s: 1.042 +/- 0.026   d: 0.848 +/- 0.040 | 0.0 | 1\n",
      "   9-m2 | 0657840201 |  s: 1.042 +/- 0.027   d: 0.845 +/- 0.041 | 3.0 | 1\n",
      "   9-m2 | 0657840201 |  s: 1.043 +/- 0.027   d: 0.845 +/- 0.042 | 3.5 | 1\n",
      "   9-m2 | 0657840201 |  s: 1.043 +/- 0.027   d: 0.845 +/- 0.042 | 4.0 | 1\n",
      "   9-m2 | 0657840201 |  s: 1.045 +/- 0.028   d: 0.840 +/- 0.043 | 4.5 | 1\n",
      "   9-m2 | 0657840201 |  s: 1.042 +/- 0.028   d: 0.853 +/- 0.044 | 5.0 | 1\n",
      "   9-m2 | 0657840201 |  s: 1.044 +/- 0.028   d: 0.843 +/- 0.044 | 5.5 | 1\n",
      "   9-m2 | 0657840201 |  s: 1.045 +/- 0.029   d: 0.839 +/- 0.044 | 6.0 | 1\n",
      "  10-m1 | 0657840301 |  s: 1.014 +/- 0.019   d: 0.956 +/- 0.033 | 0.0 | 0\n",
      "  10-m2 | 0657840301 |  s: 1.031 +/- 0.019   d: 0.861 +/- 0.031 | 0.0 | 1\n",
      "  10-m2 | 0657840301 |  s: 1.029 +/- 0.020   d: 0.873 +/- 0.032 | 3.0 | 1\n",
      "  10-m2 | 0657840301 |  s: 1.027 +/- 0.020   d: 0.879 +/- 0.032 | 3.5 | 1\n",
      "  10-m2 | 0657840301 |  s: 1.026 +/- 0.020   d: 0.886 +/- 0.033 | 4.0 | 1\n",
      "  10-m2 | 0657840301 |  s: 1.024 +/- 0.020   d: 0.892 +/- 0.033 | 4.5 | 1\n",
      "  10-m2 | 0657840301 |  s: 1.023 +/- 0.020   d: 0.895 +/- 0.034 | 5.0 | 1\n",
      "  10-m2 | 0657840301 |  s: 1.023 +/- 0.021   d: 0.898 +/- 0.034 | 5.5 | 0\n",
      "  11-m1 | 0657840401 |  s: 1.010 +/- 0.019   d: 0.973 +/- 0.033 | 0.0 | 0\n",
      "  11-m2 | 0657840401 |  s: 1.022 +/- 0.019   d: 0.912 +/- 0.032 | 0.0 | 0\n",
      "  12-m1 | 0679780101 |  s: 1.021 +/- 0.023   d: 0.937 +/- 0.038 | 0.0 | 0\n",
      "  12-m2 | 0679780101 |  s: 1.036 +/- 0.023   d: 0.879 +/- 0.037 | 0.0 | 1\n",
      "  12-m2 | 0679780101 |  s: 1.036 +/- 0.023   d: 0.877 +/- 0.037 | 3.0 | 1\n",
      "  12-m2 | 0679780101 |  s: 1.034 +/- 0.023   d: 0.888 +/- 0.038 | 3.5 | 0\n",
      "  13-m1 | 0679780201 |  s: 1.013 +/- 0.020   d: 0.993 +/- 0.035 | 0.0 | 0\n",
      "  13-m2 | 0679780201 |  s: 1.029 +/- 0.020   d: 0.912 +/- 0.033 | 0.0 | 0\n",
      "  14-m1 | 0679780301 |  s: 1.006 +/- 0.023   d: 1.018 +/- 0.041 | 0.0 | 0\n",
      "  14-m2 | 0679780301 |  s: 1.021 +/- 0.023   d: 0.948 +/- 0.039 | 0.0 | 0\n",
      "  15-m1 | 0679780401 |  s: 1.016 +/- 0.022   d: 0.954 +/- 0.038 | 0.0 | 0\n",
      "  15-m2 | 0679780401 |  s: 1.035 +/- 0.023   d: 0.878 +/- 0.037 | 0.0 | 1\n",
      "  15-m2 | 0679780401 |  s: 1.033 +/- 0.024   d: 0.892 +/- 0.039 | 3.0 | 0\n",
      "  16-m1 | 0761670101 |  s: 1.015 +/- 0.012   d: 0.974 +/- 0.020 | 0.0 | 0\n",
      "  16-m2 | 0761670101 |  s: 1.031 +/- 0.012   d: 0.900 +/- 0.020 | 0.0 | 1\n",
      "  16-m2 | 0761670101 |  s: 1.031 +/- 0.013   d: 0.901 +/- 0.022 | 3.0 | 1\n",
      "  16-m2 | 0761670101 |  s: 1.031 +/- 0.014   d: 0.897 +/- 0.022 | 3.5 | 1\n",
      "  16-m2 | 0761670101 |  s: 1.031 +/- 0.014   d: 0.898 +/- 0.023 | 4.0 | 1\n",
      "  16-m2 | 0761670101 |  s: 1.030 +/- 0.014   d: 0.904 +/- 0.024 | 4.5 | 1\n",
      "  16-m2 | 0761670101 |  s: 1.029 +/- 0.015   d: 0.906 +/- 0.024 | 5.0 | 1\n",
      "  16-m2 | 0761670101 |  s: 1.031 +/- 0.015   d: 0.900 +/- 0.025 | 5.5 | 1\n",
      "  16-m2 | 0761670101 |  s: 1.032 +/- 0.016   d: 0.898 +/- 0.026 | 6.0 | 1\n",
      "  17-m1 | 0761670201 |  s: 1.019 +/- 0.011   d: 0.952 +/- 0.019 | 0.0 | 0\n",
      "  17-m2 | 0761670201 |  s: 1.028 +/- 0.011   d: 0.902 +/- 0.018 | 0.0 | 1\n",
      "  17-m2 | 0761670201 |  s: 1.026 +/- 0.012   d: 0.915 +/- 0.020 | 3.0 | 1\n",
      "  17-m2 | 0761670201 |  s: 1.026 +/- 0.012   d: 0.914 +/- 0.021 | 3.5 | 1\n",
      "  17-m2 | 0761670201 |  s: 1.025 +/- 0.013   d: 0.920 +/- 0.021 | 4.0 | 1\n",
      "  17-m2 | 0761670201 |  s: 1.026 +/- 0.013   d: 0.915 +/- 0.022 | 4.5 | 1\n",
      "  17-m2 | 0761670201 |  s: 1.025 +/- 0.013   d: 0.917 +/- 0.022 | 5.0 | 1\n",
      "  17-m2 | 0761670201 |  s: 1.025 +/- 0.014   d: 0.920 +/- 0.023 | 5.5 | 1\n",
      "  17-m2 | 0761670201 |  s: 1.025 +/- 0.014   d: 0.922 +/- 0.023 | 6.0 | 1\n",
      "  18-m1 | 0761670301 |  s: 1.017 +/- 0.010   d: 0.963 +/- 0.017 | 0.0 | 0\n",
      "  18-m2 | 0761670301 |  s: 1.030 +/- 0.010   d: 0.892 +/- 0.017 | 0.0 | 1\n",
      "  18-m2 | 0761670301 |  s: 1.031 +/- 0.011   d: 0.889 +/- 0.019 | 3.0 | 1\n",
      "  18-m2 | 0761670301 |  s: 1.032 +/- 0.012   d: 0.886 +/- 0.019 | 3.5 | 1\n",
      "  18-m2 | 0761670301 |  s: 1.031 +/- 0.012   d: 0.888 +/- 0.020 | 4.0 | 1\n",
      "  18-m2 | 0761670301 |  s: 1.031 +/- 0.012   d: 0.890 +/- 0.020 | 4.5 | 1\n",
      "  18-m2 | 0761670301 |  s: 1.030 +/- 0.013   d: 0.895 +/- 0.021 | 5.0 | 1\n"
     ]
    },
    {
     "name": "stdout",
     "output_type": "stream",
     "text": [
      "  18-m2 | 0761670301 |  s: 1.029 +/- 0.013   d: 0.897 +/- 0.021 | 5.5 | 1\n",
      "  18-m2 | 0761670301 |  s: 1.028 +/- 0.013   d: 0.902 +/- 0.022 | 6.0 | 1\n",
      "no ../spec/ds9_m1.reg; skipping !\n",
      "  19-m2 | 0761670401 |  s: 1.021 +/- 0.015   d: 0.936 +/- 0.026 | 0.0 | 0\n",
      "  20-m1 | 0761670501 |  s: 1.006 +/- 0.011   d: 1.020 +/- 0.020 | 0.0 | 0\n",
      "  20-m2 | 0761670501 |  s: 1.029 +/- 0.011   d: 0.902 +/- 0.018 | 0.0 | 1\n",
      "  20-m2 | 0761670501 |  s: 1.030 +/- 0.012   d: 0.901 +/- 0.020 | 3.0 | 1\n",
      "  20-m2 | 0761670501 |  s: 1.028 +/- 0.012   d: 0.907 +/- 0.021 | 3.5 | 1\n",
      "  20-m2 | 0761670501 |  s: 1.027 +/- 0.013   d: 0.910 +/- 0.021 | 4.0 | 1\n",
      "  20-m2 | 0761670501 |  s: 1.028 +/- 0.013   d: 0.907 +/- 0.022 | 4.5 | 1\n",
      "  20-m2 | 0761670501 |  s: 1.030 +/- 0.013   d: 0.899 +/- 0.022 | 5.0 | 1\n",
      "  20-m2 | 0761670501 |  s: 1.030 +/- 0.014   d: 0.899 +/- 0.023 | 5.5 | 1\n",
      "  20-m2 | 0761670501 |  s: 1.031 +/- 0.014   d: 0.897 +/- 0.023 | 6.0 | 1\n",
      "  21-m1 | 0761670601 |  s: 1.015 +/- 0.010   d: 0.977 +/- 0.018 | 0.0 | 0\n",
      "  21-m2 | 0761670601 |  s: 1.031 +/- 0.011   d: 0.890 +/- 0.017 | 0.0 | 1\n",
      "  21-m2 | 0761670601 |  s: 1.031 +/- 0.012   d: 0.889 +/- 0.019 | 3.0 | 1\n",
      "  21-m2 | 0761670601 |  s: 1.030 +/- 0.012   d: 0.892 +/- 0.019 | 3.5 | 1\n",
      "  21-m2 | 0761670601 |  s: 1.031 +/- 0.012   d: 0.887 +/- 0.020 | 4.0 | 1\n",
      "  21-m2 | 0761670601 |  s: 1.032 +/- 0.012   d: 0.884 +/- 0.020 | 4.5 | 1\n",
      "  21-m2 | 0761670601 |  s: 1.033 +/- 0.013   d: 0.881 +/- 0.021 | 5.0 | 1\n",
      "  21-m2 | 0761670601 |  s: 1.033 +/- 0.013   d: 0.882 +/- 0.021 | 5.5 | 1\n",
      "  21-m2 | 0761670601 |  s: 1.032 +/- 0.013   d: 0.883 +/- 0.022 | 6.0 | 1\n",
      "  22-m1 | 0761670701 |  s: 1.007 +/- 0.010   d: 1.012 +/- 0.017 | 0.0 | 0\n",
      "  22-m2 | 0761670701 |  s: 1.029 +/- 0.010   d: 0.900 +/- 0.016 | 0.0 | 1\n",
      "  22-m2 | 0761670701 |  s: 1.028 +/- 0.010   d: 0.903 +/- 0.017 | 3.0 | 1\n",
      "  22-m2 | 0761670701 |  s: 1.026 +/- 0.011   d: 0.911 +/- 0.018 | 3.5 | 1\n",
      "  22-m2 | 0761670701 |  s: 1.027 +/- 0.011   d: 0.909 +/- 0.018 | 4.0 | 1\n",
      "  22-m2 | 0761670701 |  s: 1.025 +/- 0.011   d: 0.916 +/- 0.019 | 4.5 | 1\n",
      "  22-m2 | 0761670701 |  s: 1.025 +/- 0.011   d: 0.914 +/- 0.019 | 5.0 | 1\n",
      "  22-m2 | 0761670701 |  s: 1.025 +/- 0.012   d: 0.913 +/- 0.019 | 5.5 | 1\n",
      "  22-m2 | 0761670701 |  s: 1.026 +/- 0.012   d: 0.912 +/- 0.020 | 6.0 | 1\n",
      "  23-m1 | 0761670801 |  s: 1.011 +/- 0.009   d: 0.982 +/- 0.016 | 0.0 | 0\n",
      "  23-m2 | 0761670801 |  s: 1.026 +/- 0.010   d: 0.916 +/- 0.016 | 0.0 | 1\n",
      "  23-m2 | 0761670801 |  s: 1.026 +/- 0.011   d: 0.918 +/- 0.018 | 3.0 | 1\n",
      "  23-m2 | 0761670801 |  s: 1.026 +/- 0.011   d: 0.918 +/- 0.018 | 3.5 | 1\n",
      "  23-m2 | 0761670801 |  s: 1.025 +/- 0.011   d: 0.922 +/- 0.019 | 4.0 | 1\n",
      "  23-m2 | 0761670801 |  s: 1.024 +/- 0.011   d: 0.926 +/- 0.019 | 4.5 | 1\n",
      "  23-m2 | 0761670801 |  s: 1.024 +/- 0.012   d: 0.924 +/- 0.020 | 5.0 | 1\n",
      "  23-m2 | 0761670801 |  s: 1.025 +/- 0.012   d: 0.923 +/- 0.020 | 5.5 | 1\n",
      "  23-m2 | 0761670801 |  s: 1.024 +/- 0.012   d: 0.924 +/- 0.021 | 6.0 | 1\n",
      "  24-m1 | 0761670901 |  s: 1.009 +/- 0.010   d: 1.002 +/- 0.018 | 0.0 | 0\n",
      "  24-m2 | 0761670901 |  s: 1.029 +/- 0.010   d: 0.900 +/- 0.016 | 0.0 | 1\n",
      "  24-m2 | 0761670901 |  s: 1.030 +/- 0.010   d: 0.895 +/- 0.017 | 3.0 | 1\n",
      "  24-m2 | 0761670901 |  s: 1.029 +/- 0.011   d: 0.898 +/- 0.017 | 3.5 | 1\n",
      "  24-m2 | 0761670901 |  s: 1.028 +/- 0.011   d: 0.902 +/- 0.018 | 4.0 | 1\n",
      "  24-m2 | 0761670901 |  s: 1.028 +/- 0.011   d: 0.904 +/- 0.018 | 4.5 | 1\n",
      "  24-m2 | 0761670901 |  s: 1.026 +/- 0.011   d: 0.911 +/- 0.019 | 5.0 | 1\n",
      "  24-m2 | 0761670901 |  s: 1.026 +/- 0.012   d: 0.912 +/- 0.020 | 5.5 | 1\n",
      "  24-m2 | 0761670901 |  s: 1.026 +/- 0.012   d: 0.915 +/- 0.020 | 6.0 | 1\n"
     ]
    }
   ],
   "source": [
    "os.chdir('%s/%s'%(base_dir, data_dir))\n",
    "print('obs_num | obsid | fractions | radius | pileup?')\n",
    "for iobs, o in enumerate(obsids):\n",
    "    os.chdir('%s/mos'%o)\n",
    "    os.system('mkdir -p pileup')\n",
    "    os.chdir('pileup')\n",
    "    \n",
    "    for m in ['m1', 'm2']:\n",
    "        pileup = True\n",
    "        radius = 0.0\n",
    "        reg_file = '../spec/ds9_%s.reg'%m\n",
    "        if not os.path.exists(reg_file): \n",
    "            print('no %s; skipping !'%reg_file)\n",
    "            continue\n",
    "        reg_lines = open(reg_file).readlines()\n",
    "        if 'background' in reg_lines[-1]:\n",
    "            reg_lines = reg_lines[:-2] + [reg_lines[-1], reg_lines[-2]]\n",
    "        dum_rad = reg_lines[-1].split(',')[2]\n",
    "        reg_lines[-1] = reg_lines[-1].replace(',' + dum_rad + ',', ',%g,')\n",
    "        reg_text = ''.join(reg_lines)\n",
    "\n",
    "        while pileup:\n",
    "            with open('ds9_%s.reg'%m, 'w') as fp: fp.write(reg_text%radius)\n",
    "            subp.call(['/bin/bash', '-i', '-c', \n",
    "               ('sasinit; xmm_spec.py ../%s.fits ds9_%s.reg --check_pileup'\n",
    "                ' > pileup_%s.log 2>&1')%(m,m,m)])\n",
    "            line = [l for l in open('pileup_%s.log'%m).readlines() if '+/-' in l][0]\n",
    "            frac = np.array(np.array(line.split())[[2,4,6,8]], np.double)\n",
    "            pileup = (frac[0] > 1+3*frac[1]) or (frac[2] < 1-3*frac[3])\n",
    "            # 1 arcsec = 20 pixels\n",
    "            text = '{:4d}-{} | {} | {} | {} | {:d}'.format(\n",
    "                iobs+1, m, o, line[10:-1], radius/20., pileup)\n",
    "            print(text)\n",
    "            if pileup: radius = np.max([3.0*20, radius+10])\n",
    "            if radius/20 > 6: break\n",
    "    os.chdir('../spec')\n",
    "    os.system('cp ds9_%s.reg ds9_%s.reg.0'%(m,m))\n",
    "    os.system('cp ../pileup/ds9_%s.reg ds9_%s.reg'%(m,m))\n",
    "    os.chdir('../../../')\n",
    "            "
   ]
  },
  {
   "cell_type": "markdown",
   "metadata": {},
   "source": [
    "### Extract Spectra\n",
    "this may need to be run a few times in case python cannot handle openning so many processes at once. Running the code again will skip files already created."
   ]
  },
  {
   "cell_type": "code",
   "execution_count": 42,
   "metadata": {},
   "outputs": [
    {
     "name": "stdout",
     "output_type": "stream",
     "text": [
      "mos 1\n",
      "mos 2\n"
     ]
    }
   ],
   "source": [
    "os.chdir('%s/%s'%(base_dir, data_dir))\n",
    "procs = []\n",
    "print('mos 1')\n",
    "for iobs, o in enumerate(obsids):\n",
    "    os.chdir('%s/mos/spec'%o)\n",
    "    if os.path.exists('ds9_m1.reg') and len(glob.glob('spec_m1*grp'))==0:\n",
    "        p = subp.Popen(['/bin/bash', '-i', '-c', \n",
    "           ('sasinit; xmm_spec.py m1_filtered.fits ds9_m1.reg -o spec_m1_%d '\n",
    "            '> spec_m1.log 2>&1')%(iobs+1)])\n",
    "        procs.append(p)\n",
    "        time.sleep(1)\n",
    "    os.chdir('../../..')\n",
    "# wait for the tasks to end\n",
    "for p in procs: p.wait()\n",
    "\n",
    "procs = []\n",
    "print('mos 2')\n",
    "for iobs, o in enumerate(obsids):\n",
    "    os.chdir('%s/mos/spec'%o)\n",
    "    if os.path.exists('ds9_m2.reg') and len(glob.glob('spec_m2*grp'))==0:\n",
    "        p = subp.Popen(['/bin/bash', '-i', '-c', \n",
    "           ('sasinit; xmm_spec.py m2_filtered.fits ds9_m2.reg -o spec_m2_%d '\n",
    "            '> spec_m2.log 2>&1')%(iobs+1)])\n",
    "        procs.append(p)\n",
    "        time.sleep(1)\n",
    "    os.chdir('../../..')\n",
    "# wait for the tasks to end\n",
    "for p in procs: p.wait()"
   ]
  },
  {
   "cell_type": "markdown",
   "metadata": {},
   "source": [
    "---\n",
    "---\n",
    "## Process RGS Data"
   ]
  },
  {
   "cell_type": "code",
   "execution_count": 43,
   "metadata": {},
   "outputs": [],
   "source": [
    "os.chdir('%s/%s'%(base_dir, data_dir))\n",
    "procs = []\n",
    "for o in obsids:\n",
    "    os.chdir(o)\n",
    "    os.system('mkdir -p rgs')\n",
    "    os.chdir('rgs')\n",
    "    if len(glob.glob('spec_rgs*')) == 0:\n",
    "        log_file = '../../log/%s_process_rgs.log'%o\n",
    "        p = subp.Popen(['/bin/bash', '-i', '-c', 'sasinit; xmm_process rgs > %s 2>&1'%log_file])\n",
    "        time.sleep(1)\n",
    "        procs.append(p)\n",
    "    os.chdir('../..')\n",
    "# wait for the tasks to end\n",
    "for p in procs: p.wait()"
   ]
  },
  {
   "cell_type": "markdown",
   "metadata": {},
   "source": [
    "#### Rename the RGS spectra"
   ]
  },
  {
   "cell_type": "code",
   "execution_count": 44,
   "metadata": {},
   "outputs": [],
   "source": [
    "os.chdir('%s/%s'%(base_dir, data_dir))\n",
    "for iobs,o in enumerate(obsids):\n",
    "    os.chdir('%s/rgs'%o)\n",
    "    if len(glob.glob('spec_rgs_%d*'%iobs)) == 0:\n",
    "        os.system('rename _rgs. _rgs_%d. spec_rgs*'%(iobs+1))\n",
    "        root = 'spec_rgs_%d.'%(iobs+1) + '%s'\n",
    "        with pyfits.open(root%'grp') as fp:\n",
    "            fp[1].header['backfile'] = root%'bgd'\n",
    "            fp[1].header['respfile'] = root%'rsp'\n",
    "            os.system('rm tmp.grp > /dev/null 2>&1')\n",
    "            fp.writeto('tmp.grp')\n",
    "        os.system('mv %s _%s'%(root%'grp', root%'grp'))\n",
    "        os.system('mv %s tmp.grp'%(root%'grp'))\n",
    "        cmd = ('export HEADASNOQUERY=;export HEADASPROMPT=/dev/null;'\n",
    "              'ftgrouppha tmp.grp %s opt respfile=%s')%(root%'grp', root%'rsp')\n",
    "        subp.call(['/bin/bash', '-i', '-c', cmd])\n",
    "    os.chdir('../..')\n"
   ]
  },
  {
   "cell_type": "markdown",
   "metadata": {},
   "source": [
    "## Summary of PN Spectral Data"
   ]
  },
  {
   "cell_type": "code",
   "execution_count": 9,
   "metadata": {},
   "outputs": [
    {
     "name": "stdout",
     "output_type": "stream",
     "text": [
      "num   | obsid        | mjd        | rat        | exp       \n",
      "    1 | 0112310101   |  51899.889 |       7.07 |       21.0\n",
      "    2 | 0112830201   |  51900.806 |       6.82 |       50.9\n",
      "    3 | 0112830501   |  51900.255 |       6.83 |       17.6\n",
      "    4 | 0143500101   |  52784.177 |       24.3 |       11.1\n",
      "    5 | 0143500201   |  52785.967 |       20.8 |       12.7\n",
      "    6 | 0143500301   |  52786.746 |       31.5 |       12.7\n",
      "    7 | 0402660101   |  53871.499 |        6.4 |       28.0\n",
      "    8 | 0402660201   |  54069.028 |       7.53 |       22.9\n",
      "    9 | 0657840201   |  55724.662 |       16.1 |       2.21\n",
      "   10 | 0657840301   |  55890.235 |       18.3 |       5.61\n",
      "   11 | 0657840401   |    55904.2 |       21.2 |       6.59\n",
      "   12 | 0679780101   |   56060.25 |       19.4 |       6.29\n",
      "   13 | 0679780201   |  56088.184 |       8.37 |       8.75\n",
      "   14 | 0679780301   |  56245.789 |       16.1 |       3.83\n",
      "   15 | 0679780401   |  56271.736 |       18.9 |       6.64\n",
      "   16 | 0761670101   |  57338.846 |       6.38 |       22.8\n",
      "   17 | 0761670201   |  57340.826 |       7.11 |       24.0\n",
      "   18 | 0761670301   |  57342.825 |       6.25 |       30.6\n",
      "   19 | 0761670401   |    57356.8 |       6.67 |       21.9\n",
      "   20 | 0761670501   |  57346.783 |       8.01 |       26.9\n",
      "   21 | 0761670601   |  57348.801 |       8.32 |       29.9\n",
      "   22 | 0761670701   |  57372.711 |       12.3 |       29.4\n",
      "   23 | 0761670801   |  57374.679 |       10.9 |       29.7\n",
      "   24 | 0761670901   |  57378.669 |       11.7 |       30.4\n"
     ]
    }
   ],
   "source": [
    "os.chdir('%s/%s/'%(base_dir, data_dir))\n",
    "print('{:5} | {:12} | {:10.8} | {:10.3} | {:10.3}'.format(\n",
    "        'num', 'obsid', 'mjd', 'rate', 'exposure'))\n",
    "spec_data = []\n",
    "for iobs,o in enumerate(obsids):\n",
    "    with pyfits.open('%s/pn/spec/spec_%d.grp'%(o, iobs+1)) as fp:\n",
    "        exposure = fp[1].header['exposure']\n",
    "        counts = fp[1].data.field('counts').sum()\n",
    "        mjd = (atime.Time(fp[0].header['date_end']).mjd + \n",
    "               atime.Time(fp[0].header['date_obs']).mjd ) / 2\n",
    "        spec_data.append([mjd, counts/exposure, exposure/1e3])\n",
    "        text = '{:5} | {:12} | {:10.8} | {:10.3} | {:10.3}'.format(\n",
    "                iobs+1, o, mjd, counts/exposure, exposure/1e3)\n",
    "        print(text)\n",
    "spec_data = np.array(spec_data)"
   ]
  },
  {
   "cell_type": "code",
   "execution_count": 10,
   "metadata": {},
   "outputs": [
    {
     "name": "stdout",
     "output_type": "stream",
     "text": [
      "There are 22 spec observations\n",
      "0112310101, 0112830201, 0112830501, 0143500101, 0143500201, 0143500301, 0402660101, 0402660201, 0657840301, 0657840401, 0679780101, 0679780201, 0679780401, 0761670101, 0761670201, 0761670301, 0761670401, 0761670501, 0761670601, 0761670701, 0761670801, 0761670901\n"
     ]
    }
   ],
   "source": [
    "## keep only exposures > 5ks\n",
    "igood = np.argwhere(spec_data[:,2] >= 5)[:,0]\n",
    "spec_obsids = obsids[igood]\n",
    "spec_data = spec_data[igood]\n",
    "print('There are %d spec observations'%len(spec_obsids))\n",
    "print(', '.join(spec_obsids))"
   ]
  },
  {
   "cell_type": "markdown",
   "metadata": {},
   "source": [
    "## Extract PN At Small Time steps\n",
    "### Identify the time selection"
   ]
  },
  {
   "cell_type": "code",
   "execution_count": 11,
   "metadata": {},
   "outputs": [
    {
     "name": "stdout",
     "output_type": "stream",
     "text": [
      "nu    | obsid        | exposure   | nsub spec\n",
      "    1 | 0112310101   |       21.0 |     4\n",
      "    2 | 0112830201   |       50.9 |    10\n",
      "    3 | 0112830501   |       17.6 |     3\n",
      "    4 | 0143500101   |       11.1 |     2\n",
      "    5 | 0143500201   |       12.7 |     2\n",
      "    6 | 0143500301   |       12.7 |     2\n",
      "    7 | 0402660101   |       28.0 |     5\n",
      "    8 | 0402660201   |       22.9 |     4\n",
      "    9 | 0657840301   |       5.61 |     1\n",
      "   10 | 0657840401   |       6.59 |     1\n",
      "   11 | 0679780101   |       6.29 |     1\n",
      "   12 | 0679780201   |       8.75 |     1\n",
      "   13 | 0679780401   |       6.64 |     1\n",
      "   14 | 0761670101   |       22.8 |     4\n",
      "   15 | 0761670201   |       24.0 |     4\n",
      "   16 | 0761670301   |       30.6 |     6\n",
      "   17 | 0761670401   |       21.9 |     4\n",
      "   18 | 0761670501   |       26.9 |     5\n",
      "   19 | 0761670601   |       29.9 |     5\n",
      "   20 | 0761670701   |       29.4 |     5\n",
      "   21 | 0761670801   |       29.7 |     5\n",
      "   22 | 0761670901   |       30.4 |     6\n"
     ]
    }
   ],
   "source": [
    "os.chdir('%s/%s/'%(base_dir, data_dir))\n",
    "# time_step in ks\n",
    "time_step = 5\n",
    "tselect, tselect_expr = [], []\n",
    "print('{:5} | {:12} | {:10} | {:5}'.format('nu', 'obsid', 'exposure', 'nsub spec'))\n",
    "for iobs,o in enumerate(spec_obsids):\n",
    "    nsub_spec = np.int(spec_data[iobs, 2] // time_step)\n",
    "    with pyfits.open('%s/pn/spec/pn_filtered.fits'%o) as fp:\n",
    "        events = np.sort(fp[1].data.field('time'))\n",
    "        evt_per_sub = len(events)//nsub_spec\n",
    "        tcut = np.concatenate([[events[0]], events[np.arange(1, nsub_spec)*evt_per_sub], [events[-1]]])\n",
    "        tselect_expr.append(['(TIME > %.10g) && (TIME <= %.10g)'%(x,y) \n",
    "                        for x,y in zip(tcut[:-1], tcut[1:])])\n",
    "        tselect.append([[x,y] for x,y in zip(tcut[:-1], tcut[1:])])\n",
    "    print('{:5} | {:12} | {:10.3} | {:5}'.format(iobs+1, o, spec_data[iobs, 2], nsub_spec))"
   ]
  },
  {
   "cell_type": "markdown",
   "metadata": {},
   "source": [
    "### Now extract the spectra"
   ]
  },
  {
   "cell_type": "code",
   "execution_count": 51,
   "metadata": {},
   "outputs": [],
   "source": [
    "os.chdir('%s/%s'%(base_dir, data_dir))\n",
    "# use tselect array from above #\n",
    "procs, ispec, ispecs = [], 1, []\n",
    "for iobs in range(len(spec_obsids)):\n",
    "    dum = [ispec+i for i in range(len(tselect[iobs]))]\n",
    "    ispecs.append(dum)\n",
    "    ispec = dum[-1]+1\n",
    "        \n",
    "for iobs,o in enumerate(spec_obsids):\n",
    "    os.chdir('%s/pn'%o)\n",
    "    os.system('mkdir -p subspec')\n",
    "    os.chdir('subspec')\n",
    "\n",
    "    if len(glob.glob('spec*grp')) != len(tselect_expr[iobs]):\n",
    "        cmd = 'sasinit'\n",
    "        for isel,tsel in enumerate(tselect_expr[iobs]):\n",
    "            ispec = ispecs[iobs][isel]\n",
    "            cmd += (';xmm_spec.py ../spec/pn_filtered.fits ../spec/ds9.reg'\n",
    "                ' --e_expr \" && %s\" -o spec_%d > spec_%d.log 2>&1')%(tsel, ispec, ispec)\n",
    "        time.sleep(0.5)\n",
    "        p = subp.Popen(['/bin/bash', '-i', '-c', cmd])    \n",
    "        procs.append(p)\n",
    "    os.chdir('../../..')\n",
    "# wait for the tasks to end\n",
    "for p in procs: p.wait()"
   ]
  },
  {
   "cell_type": "markdown",
   "metadata": {},
   "source": [
    "### Save useful data for other notebooks"
   ]
  },
  {
   "cell_type": "code",
   "execution_count": 52,
   "metadata": {},
   "outputs": [],
   "source": [
    "os.chdir('%s/%s'%(base_dir, data_dir))\n",
    "# save some useful data for other notebooks\n",
    "np.savez('log/data.npz', obsids=obsids, spec_obsids=spec_obsids, spec_data=spec_data, \n",
    "         tselect=tselect, tselect_ispec=ispecs)"
   ]
  },
  {
   "cell_type": "markdown",
   "metadata": {},
   "source": [
    "<br /> <br /> <br />\n",
    "\n",
    "---\n",
    "---\n",
    "## SUZAKU data"
   ]
  },
  {
   "cell_type": "code",
   "execution_count": 2,
   "metadata": {},
   "outputs": [
    {
     "name": "stdout",
     "output_type": "stream",
     "text": [
      "There are 4 observations\n",
      "701034010, 707024010, 906006010, 906006020\n"
     ]
    }
   ],
   "source": [
    "base_dir = '/u/home/abzoghbi/data/ngc4151/spec_analysis'\n",
    "data_dir = 'data/suzaku'\n",
    "os.system('mkdir -p %s'%data_dir)\n",
    "obsids = ['906006010', '906006020', '707024010', '701034010']\n",
    "obsids = np.sort(obsids)\n",
    "print('There are %d observations'%len(obsids))\n",
    "print(', '.join(obsids))"
   ]
  },
  {
   "cell_type": "markdown",
   "metadata": {},
   "source": [
    "#### We use `ftplib` to get the data from heasarc (may take some time)"
   ]
  },
  {
   "cell_type": "code",
   "execution_count": null,
   "metadata": {},
   "outputs": [],
   "source": [
    "os.chdir(base_dir)\n",
    "ftp = FTP('legacy.gsfc.nasa.gov', 'anonymous', 'anonymous@gmail.com')\n",
    "ftp.cwd('suzaku/data/obs')\n",
    "failed = []\n",
    "for o in obsids:\n",
    "    tar_file = '%s/%s.tar'%(data_dir, o)\n",
    "    ftp.cwd(o[0])\n",
    "    # download file only if not already downloaded\n",
    "    if not os.path.exists(tar_file):\n",
    "        try:\n",
    "            ftp.retrbinary('RETR %s.tar'%o ,open(tar_file, 'wb').write)\n",
    "        except:\n",
    "            print('failed downloading %s'%o)\n",
    "            os.system('rm %s >/dev/null 2>&1'%tar_file)\n",
    "            failed.append(o)\n",
    "    ftp.cwd('..')"
   ]
  },
  {
   "cell_type": "code",
   "execution_count": 4,
   "metadata": {},
   "outputs": [
    {
     "name": "stdout",
     "output_type": "stream",
     "text": [
      "There are 4 observations\n",
      "906006010, 906006020, 707024010, 707034010\n"
     ]
    }
   ],
   "source": [
    "for f in failed:\n",
    "    obsids = np.delete(obsids, np.argwhere(obsids==f)[0,0])\n",
    "print('There are %d observations'%len(obsids))\n",
    "print(', '.join(obsids))"
   ]
  },
  {
   "cell_type": "markdown",
   "metadata": {},
   "source": [
    "## Process the XIS data\n",
    "We use our shell script `suzaku_process`."
   ]
  },
  {
   "cell_type": "code",
   "execution_count": null,
   "metadata": {},
   "outputs": [],
   "source": [
    "os.chdir('%s/%s'%(base_dir, data_dir))\n",
    "os.system('mkdir -p log')\n",
    "procs = []\n",
    "for o in obsids:\n",
    "    if os.path.exists(o): continue\n",
    "    os.system('tar -xf %s.tar'%o)\n",
    "    if not os.path.exists('%s_p'%o):\n",
    "        log_file = 'log/%s_process.log'%o\n",
    "        cmd = ('export HEADASNOQUERY=;export HEADASPROMPT=/dev/null;'\n",
    "               'suzaku_process %s xis > %s 2>&1'%(o, log_file))\n",
    "        proc = subp.Popen(['/bin/bash', '-i', '-c', cmd])\n",
    "        procs.append(proc)\n",
    "        time.sleep(0.2)\n",
    "\n",
    "# wait for the tasks to end\n",
    "for p in procs: p.wait()"
   ]
  },
  {
   "cell_type": "markdown",
   "metadata": {},
   "source": [
    "## Spectral Extraction\n",
    "- Use `suzaku_xis_spec.py` \n",
    "- Region size: 160''"
   ]
  },
  {
   "cell_type": "code",
   "execution_count": 7,
   "metadata": {},
   "outputs": [
    {
     "name": "stdout",
     "output_type": "stream",
     "text": [
      "-- obs 701034010 --\n",
      "-- obs 707024010 --\n",
      "-- obs 906006010 --\n",
      "-- obs 906006020 --\n"
     ]
    }
   ],
   "source": [
    "os.chdir('%s/%s'%(base_dir, data_dir))\n",
    "exists = os.path.exists\n",
    "procs = []\n",
    "for iobs,o in enumerate(obsids):\n",
    "    print('-- obs %s --'%o)\n",
    "    os.chdir('%s_p/'%o)\n",
    "    os.system('mkdir -p spec')\n",
    "    os.chdir('spec')\n",
    "    if len(glob.glob('spec_xi*grp')) != 3:\n",
    "        # check if we have a saved region file, or a temporary region file\n",
    "        # for faster loading\n",
    "        saved_reg = '../../log/%s_src.reg'%o\n",
    "        if exists(saved_reg):\n",
    "            os.system('cp %s src.reg'%saved_reg)\n",
    "            os.system('cp %s bgd.reg'%(saved_reg.replace('_src.', '_bgd.')))\n",
    "            region = ''\n",
    "        else:\n",
    "            region = '--create_region'\n",
    "\n",
    "        cmd = ('export HEADASNOQUERY=;export HEADASPROMPT=/dev/null;'\n",
    "              'suzaku_xis_spec.py -o spec_%d %s'%(iobs+1, region))\n",
    "        p = subp.Popen(['/bin/bash', '-i', '-c', cmd])\n",
    "        procs.append(p)\n",
    "        if not exists(saved_reg):\n",
    "            os.system('cp src.reg %s'%saved_reg) \n",
    "            os.system('cp bgd.reg %s'%(saved_reg.replace('_src.', '_bgd.')))\n",
    "        time.sleep(0.3)\n",
    "    os.chdir('../..')\n",
    "# wait for the tasks to end\n",
    "for p in procs: p.wait() "
   ]
  },
  {
   "cell_type": "code",
   "execution_count": 8,
   "metadata": {},
   "outputs": [],
   "source": [
    "## add xi0, xi3 -> fi #\n",
    "os.chdir('%s/%s'%(base_dir, data_dir))\n",
    "for iobs,o in enumerate(obsids):\n",
    "    os.chdir('%s_p/spec'%o)\n",
    "    txt = '\\n'.join(['spec_xi0_{0}.{1} spec_xi3_{0}.{1}'.format(iobs+1, s) \n",
    "                        for s in ['src', 'bgd', 'rsp']])\n",
    "    with open('tmp.dat', 'w') as fp: fp.write(txt+'\\n')\n",
    "    cmd = ('export HEADASNOQUERY=;export HEADASPROMPT=/dev/null; rm spec_fi_{0}.*;'\n",
    "            'addascaspec tmp.dat spec_fi_{0}.src spec_fi_{0}.rsp spec_fi_{0}.bgd').format(iobs+1)\n",
    "    p = subp.call(['/bin/bash', '-i', '-c', cmd])\n",
    "    # group #\n",
    "    cmd = 'ogrppha.py spec_fi_{0}.src spec_fi_{0}.grp -f 3 -s 6'.format(iobs+1)\n",
    "    subp.call(['/bin/bash', '-i', '-c', cmd])\n",
    "    os.chdir('../..')"
   ]
  },
  {
   "cell_type": "markdown",
   "metadata": {},
   "source": [
    "## Summary of Spectral Data"
   ]
  },
  {
   "cell_type": "code",
   "execution_count": 4,
   "metadata": {},
   "outputs": [
    {
     "name": "stdout",
     "output_type": "stream",
     "text": [
      "num   | obsid        | mjd_s      | mjd_e      | rat        | exp       \n",
      "    1 | 701034010    |   54087.84 |  54090.385 |       1.11 |     124.98\n",
      "    2 | 707024010    |  56242.862 |  56245.961 |       3.63 |     150.28\n",
      "    3 | 906006010    |  55882.674 |  55883.975 |        4.8 |     61.665\n",
      "    4 | 906006020    |   55913.67 |  55915.041 |       5.73 |     60.596\n"
     ]
    }
   ],
   "source": [
    "os.chdir('%s/%s/'%(base_dir, data_dir))\n",
    "print('{:5} | {:12} | {:10.8} | {:10.8} | {:10.3} | {:10.3}'.format(\n",
    "        'num', 'obsid', 'mjd_s', 'mjd_e', 'rate', 'exposure'))\n",
    "spec_data = []\n",
    "for iobs,o in enumerate(obsids):\n",
    "    with pyfits.open('%s_p/spec/spec_xi0_%d.grp'%(o, iobs+1)) as fp:\n",
    "        exposure = fp[1].header['exposure']\n",
    "        counts = fp[1].data.field('counts').sum()\n",
    "        tmid = np.array([fp[0].header['tstart'],  fp[0].header['tstop']])\n",
    "        mref = fp[0].header['mjdrefi'] + fp[0].header['mjdreff']\n",
    "        mjd = tmid / (24*3600) + mref\n",
    "        spec_data.append([mjd, counts/exposure, exposure/1e3])\n",
    "        text = '{:5} | {:12} | {:10.8} | {:10.8} | {:10.3} | {:10.5}'.format(\n",
    "                iobs+1, o, mjd[0], mjd[1], counts/exposure, exposure/1e3)\n",
    "        print(text)\n",
    "spec_data = np.array(spec_data)"
   ]
  },
  {
   "cell_type": "markdown",
   "metadata": {},
   "source": [
    "## Extract XIS At Small Time steps\n",
    "### Identify the time selection"
   ]
  },
  {
   "cell_type": "code",
   "execution_count": 10,
   "metadata": {},
   "outputs": [
    {
     "name": "stdout",
     "output_type": "stream",
     "text": [
      "num   | obsid        | exposure   | nsub spec\n",
      "    1 | 701034010    |     124.98 |    24\n",
      "    2 | 707024010    |     150.28 |    29\n",
      "    3 | 906006010    |     61.665 |    12\n",
      "    4 | 906006020    |     60.596 |    12\n"
     ]
    }
   ],
   "source": [
    "os.chdir('%s/%s/'%(base_dir, data_dir))\n",
    "cmd_clean = 'export HEADASNOQUERY=;export HEADASPROMPT=/dev/null;'\n",
    "# time_step in ks\n",
    "time_step = 5\n",
    "tselect, tselect_expr = [], []\n",
    "print('{:5} | {:12} | {:10} | {:5}'.format('num', 'obsid', 'exposure', 'nsub spec'))\n",
    "for iobs,o in enumerate(obsids):\n",
    "    \n",
    "    os.chdir('%s_p'%o)\n",
    "    os.system('mkdir -p subspec')\n",
    "    os.chdir('subspec')\n",
    "    os.system('cp ../spec/*reg .')\n",
    "    \n",
    "    # extract light curve #\n",
    "    lcfile = 'lc_008_xi0__1.src'\n",
    "    if not os.path.exists(lcfile):\n",
    "        cmd = cmd_clean + 'suzaku_xis_lc.py -t 8 --rootdir ../xis/event_cl'\n",
    "        p = subp.call(['/bin/bash', '-i', '-c', cmd])\n",
    "\n",
    "    ldata,dt = az.LCurve.read_fits_file(lcfile, min_exp=0.7)\n",
    "    ldata = ldata[:, ldata[2]>0]\n",
    "    nsub_spec = ldata.shape[1]//np.int(time_step * 1e3/dt)\n",
    "    icut = np.array(np.linspace(0, ldata.shape[1]-1, nsub_spec+1), np.int)\n",
    "    tcut = ldata[0, icut]\n",
    "    with pyfits.open(lcfile) as fp:\n",
    "        mjdref = fp[0].header['mjdrefi'] + fp[0].header['mjdreff']\n",
    "    tcut = tcut/(24*3600) + mjdref\n",
    "    \n",
    "    tselect_expr.append(['mjd \\\\\"%10.10g,%10.10g\\\\\"'%(x,y) \n",
    "                        for x,y in zip(tcut[:-1], tcut[1:])])\n",
    "    tselect.append([[x,y] for x,y in zip(tcut[:-1], tcut[1:])])\n",
    "    print('{:5} | {:12} | {:10.5} | {:5}'.format(iobs+1, o, spec_data[iobs, 2], nsub_spec))\n",
    "    os.chdir('../..')"
   ]
  },
  {
   "cell_type": "markdown",
   "metadata": {},
   "source": [
    "### Now extract the spectra"
   ]
  },
  {
   "cell_type": "code",
   "execution_count": null,
   "metadata": {},
   "outputs": [],
   "source": [
    "os.chdir('%s/%s'%(base_dir, data_dir))\n",
    "# use tselect array from above #\n",
    "procs, ispec, ispecs = [], 1, []\n",
    "for iobs in range(len(obsids)):\n",
    "    dum = [ispec+i for i in range(len(tselect[iobs]))]\n",
    "    ispecs.append(dum)\n",
    "    ispec = dum[-1]+1\n",
    "        \n",
    "for iobs,o in enumerate(obsids):\n",
    "    os.chdir('%s_p/subspec'%o)\n",
    "\n",
    "    \n",
    "    cmd0 = 'export HEADASNOQUERY=;export HEADASPROMPT=/dev/null;'\n",
    "    for isel,tsel in enumerate(tselect_expr[iobs]):\n",
    "        ispec = ispecs[iobs][isel]\n",
    "        logfile = '../../log/sub_%d.log'%ispec\n",
    "        cmd = cmd0 + 'suzaku_xis_spec.py -o spec_%d --t_expr \"%s\" --noclean > %s 2>&1'%(\n",
    "                    ispec, tsel, logfile)\n",
    "\n",
    "        if len(glob.glob('spec_xi*_%d.grp'%ispec)) != 3:\n",
    "            time.sleep(1)\n",
    "            p = subp.Popen(['/bin/bash', '-i', '-c', cmd])    \n",
    "            procs.append(p)\n",
    "\n",
    "        if len(procs) == 30:\n",
    "            for p in procs: p.wait()\n",
    "            procs = []\n",
    "    \n",
    "    os.chdir('../..')\n",
    "# wait for the tasks to end\n",
    "for p in procs: p.wait()"
   ]
  },
  {
   "cell_type": "code",
   "execution_count": 17,
   "metadata": {},
   "outputs": [],
   "source": [
    "## add xi0, xi3 -> fi #\n",
    "os.chdir('%s/%s'%(base_dir, data_dir))\n",
    "for iobs,o in enumerate(obsids):\n",
    "    os.chdir('%s_p/subspec'%o)\n",
    "    cmd0 = 'export HEADASNOQUERY=;export HEADASPROMPT=/dev/null;'\n",
    "    for isel,tsel in enumerate(tselect_expr[iobs]):\n",
    "        ispec = ispecs[iobs][isel]\n",
    "        if not os.path.exists('spec_fi_{0}.grp'.format(ispec)):\n",
    "            txt = '\\n'.join(['spec_xi0_{0}.{1} spec_xi3_{0}.{1}'.format(ispec, s) \n",
    "                            for s in ['src', 'bgd', 'rsp']])\n",
    "            with open('tmp.dat', 'w') as fp: fp.write(txt)\n",
    "            cmd = 'addascaspec tmp.dat spec_fi_{0}.src spec_fi_{0}.rsp spec_fi_{0}.bgd'.format(ispec)\n",
    "            p = subp.call(['/bin/bash', '-i', '-c', cmd0+cmd])\n",
    "            # group #\n",
    "            cmd = 'ogrppha.py spec_fi_{0}.src spec_fi_{0}.grp -f 3 -s 6'.format(ispec)\n",
    "            subp.call(['/bin/bash', '-i', '-c', cmd])\n",
    "    os.chdir('../..')"
   ]
  },
  {
   "cell_type": "code",
   "execution_count": null,
   "metadata": {},
   "outputs": [],
   "source": [
    "os.chdir('%s/%s'%(base_dir, data_dir))\n",
    "# save some useful data for other notebooks\n",
    "np.savez('log/data.npz', obsids=obsids, spec_data=spec_data, \n",
    "         tselect=tselect, tselect_ispec=ispecs)"
   ]
  },
  {
   "cell_type": "markdown",
   "metadata": {},
   "source": [
    "<br /> <br /> <br />\n",
    "\n",
    "---\n",
    "---\n",
    "## NuSTAR data"
   ]
  },
  {
   "cell_type": "code",
   "execution_count": 36,
   "metadata": {},
   "outputs": [
    {
     "name": "stdout",
     "output_type": "stream",
     "text": [
      "There are 3 observations\n",
      "60001111002, 60001111003, 60001111005\n"
     ]
    }
   ],
   "source": [
    "base_dir = '/u/home/abzoghbi/data/ngc4151/spec_analysis'\n",
    "data_dir = 'data/nustar'\n",
    "os.system('mkdir -p %s'%data_dir)\n",
    "obsids = ['60001111002', '60001111003', '60001111005']\n",
    "obsids = np.array(obsids)\n",
    "print('There are %d observations'%len(obsids))\n",
    "print(', '.join(obsids))"
   ]
  },
  {
   "cell_type": "markdown",
   "metadata": {},
   "source": [
    "#### We use `ftplib` to get the data from heasarc (may take some time)"
   ]
  },
  {
   "cell_type": "code",
   "execution_count": 14,
   "metadata": {},
   "outputs": [],
   "source": [
    "os.chdir('%s/%s'%(base_dir, data_dir))\n",
    "ftp = FTP('legacy.gsfc.nasa.gov', 'anonymous', 'anonymous@gmail.com')\n",
    "ftp.cwd('nustar/data/obs')\n",
    "failed = []\n",
    "for o in obsids:\n",
    "    ftp.cwd('%s/%s'%(o[1:3], o[0]))\n",
    "    tar_file = '%s.tar'%o\n",
    "    # download file only if not already downloaded\n",
    "    if not os.path.exists(tar_file):\n",
    "        try:\n",
    "            ftp.retrbinary('RETR %s'%tar_file ,open(tar_file, 'wb').write)\n",
    "        except:\n",
    "            print('failed downloading %s'%o)\n",
    "            os.system('rm %s >/dev/null 2>&1'%tar_file)\n",
    "            failed.append(o)\n",
    "    ftp.cwd('../..')\n"
   ]
  },
  {
   "cell_type": "code",
   "execution_count": 15,
   "metadata": {},
   "outputs": [
    {
     "name": "stdout",
     "output_type": "stream",
     "text": [
      "There are 3 observations\n",
      "60001111002, 60001111003, 60001111005\n"
     ]
    }
   ],
   "source": [
    "for f in failed:\n",
    "    if f in obsids:\n",
    "        obsids = np.delete(obsids, np.argwhere(obsids==f)[0,0])\n",
    "print('There are %d observations'%len(obsids))\n",
    "print(', '.join(obsids))\n",
    "nobs = len(obsids)"
   ]
  },
  {
   "cell_type": "markdown",
   "metadata": {},
   "source": [
    "### Process the NuSTAR data\n",
    "We use our shell script `nustar_process`."
   ]
  },
  {
   "cell_type": "code",
   "execution_count": 16,
   "metadata": {},
   "outputs": [],
   "source": [
    "os.chdir('%s/%s'%(base_dir, data_dir))\n",
    "os.system('mkdir -p log')\n",
    "procs = []\n",
    "for o in obsids:\n",
    "    if not os.path.exists(o):\n",
    "        os.system('tar -xf %s.tar'%o)\n",
    "    if not os.path.exists('%s_p'%o):\n",
    "        # download large files by http\n",
    "        \n",
    "        log_file = 'log/%s_process.log'%o\n",
    "        cmd = ('export HEADASNOQUERY=;export HEADASPROMPT=/dev/null;'\n",
    "               'nustar_process %s > %s 2>&1'%(o, log_file))\n",
    "        proc = subp.Popen(['/bin/bash', '-i', '-c', cmd])\n",
    "        procs.append(proc)\n",
    "        time.sleep(0.2)\n",
    "\n",
    "# wait for the tasks to end\n",
    "for p in procs: p.wait()"
   ]
  },
  {
   "cell_type": "markdown",
   "metadata": {},
   "source": [
    "### Spectral Extraction\n",
    "- Use `nustar_spec.py` \n",
    "- Region size: 150''"
   ]
  },
  {
   "cell_type": "code",
   "execution_count": null,
   "metadata": {},
   "outputs": [
    {
     "name": "stdout",
     "output_type": "stream",
     "text": [
      "-- obs 60001111002 --\n",
      "-- obs 60001111003 --\n",
      "-- obs 60001111005 --\n"
     ]
    }
   ],
   "source": [
    "os.chdir('%s/%s'%(base_dir, data_dir))\n",
    "exists = os.path.exists\n",
    "obsids = np.sort(obsids)\n",
    "procs = []\n",
    "for iobs,o in enumerate(obsids):\n",
    "    print('-- obs %s --'%o)\n",
    "    os.chdir('%s_p/'%o)\n",
    "    os.system('mkdir -p spec')\n",
    "    os.chdir('spec')\n",
    "    if len(glob.glob('spec*grp')) != 2:\n",
    "        # check if we have a saved region file, or a temporary region file\n",
    "        # for faster loading\n",
    "        saved_reg = '../../log/%s_src.reg'%o\n",
    "        if exists(saved_reg):\n",
    "            os.system('cp %s src.reg'%saved_reg)\n",
    "            os.system('cp %s bgd.reg'%(saved_reg.replace('_src.', '_bgd.')))\n",
    "            region = ''\n",
    "        else:\n",
    "            region = '--create_region'\n",
    "\n",
    "        cmd = ('export HEADASNOQUERY=;export HEADASPROMPT=/dev/null;'\n",
    "              'nustar_spec.py -o spec_%d %s'%(iobs+1, region))\n",
    "        p = subp.Popen(['/bin/bash', '-i', '-c', cmd])\n",
    "        procs.append(p)\n",
    "        if not exists(saved_reg):\n",
    "            os.system('cp src.reg %s'%saved_reg) \n",
    "            os.system('cp bgd.reg %s'%(saved_reg.replace('_src.', '_bgd.')))\n",
    "        time.sleep(0.3)\n",
    "    os.chdir('../..')\n",
    "# wait for the tasks to end\n",
    "for p in procs: p.wait() "
   ]
  },
  {
   "cell_type": "code",
   "execution_count": 37,
   "metadata": {},
   "outputs": [],
   "source": [
    "## group the spectra #\n",
    "os.chdir('%s/%s'%(base_dir, data_dir))\n",
    "for iobs,o in enumerate(obsids):\n",
    "    os.chdir('%s_p/spec'%o)\n",
    "    cmd = ('rm *grp; ogrppha.py spec_{0}_a_sr.pha spec_{0}_a.grp -f 3 -s 6;'\n",
    "           'ogrppha.py spec_{0}_b_sr.pha spec_{0}_b.grp -f 3 -s 6').format(iobs+1)\n",
    "    subp.call(['/bin/bash', '-i', '-c', cmd])\n",
    "    os.chdir('../..')"
   ]
  },
  {
   "cell_type": "markdown",
   "metadata": {},
   "source": [
    "### Summary of spectral data"
   ]
  },
  {
   "cell_type": "code",
   "execution_count": 39,
   "metadata": {},
   "outputs": [
    {
     "name": "stdout",
     "output_type": "stream",
     "text": [
      "num   | obsid        | mjd_s      | mjd_e      | rat        | exp       \n",
      "    1 | 60001111002  |  56243.264 |  56243.765 |       7.64 |     21.864\n",
      "    2 | 60001111003  |  56243.792 |  56245.045 |       7.17 |     57.036\n",
      "    3 | 60001111005  |  56245.345 |   56246.73 |       8.26 |     61.531\n"
     ]
    }
   ],
   "source": [
    "os.chdir('%s/%s/'%(base_dir, data_dir))\n",
    "print('{:5} | {:12} | {:10.8} | {:10.8} | {:10.3} | {:10.3}'.format(\n",
    "        'num', 'obsid', 'mjd_s', 'mjd_e', 'rate', 'exposure'))\n",
    "spec_data = []\n",
    "for iobs,o in enumerate(obsids):\n",
    "    with pyfits.open('%s_p/spec/spec_%d_a.grp'%(o, iobs+1)) as fp:\n",
    "        exposure = fp[1].header['exposure']\n",
    "        counts = fp[1].data.field('counts').sum()\n",
    "        tmid = np.array([fp[0].header['tstart'], fp[0].header['tstop']])\n",
    "        mref = fp[0].header['mjdrefi'] + fp[0].header['mjdreff']\n",
    "        mjd = tmid / (24*3600) + mref\n",
    "        spec_data.append([mjd, counts/exposure, exposure/1e3])\n",
    "        text = '{:5} | {:12} | {:10.8} | {:10.8} | {:10.3} | {:10.5}'.format(\n",
    "                iobs+1, o, mjd[0], mjd[1], counts/exposure, exposure/1e3)\n",
    "        print(text)\n",
    "spec_data = np.array(spec_data)"
   ]
  },
  {
   "cell_type": "code",
   "execution_count": 40,
   "metadata": {},
   "outputs": [],
   "source": [
    "# summary #\n",
    "os.chdir('%s/%s'%(base_dir, data_dir))\n",
    "# save some useful data for other notebooks\n",
    "np.savez('log/data.npz', obsids=obsids, spec_data=spec_data)"
   ]
  },
  {
   "cell_type": "markdown",
   "metadata": {},
   "source": [
    "### Overlap between NuSTAR & Suzaku\n",
    "Use `suzaku_2` with `nustar_2`"
   ]
  },
  {
   "cell_type": "code",
   "execution_count": null,
   "metadata": {},
   "outputs": [],
   "source": [
    "# ---- SUZAKU ---- #\n",
    "# num   | obsid        | mjd_s      | mjd_e      | rat        | exp       \n",
    "#     1 | 701034010    |   54087.84 |  54090.385 |       1.11 |     124.98\n",
    "#     2 | 707024010    |  56242.862 |  56245.961 |       3.63 |     150.28\n",
    "#     3 | 906006010    |  55882.674 |  55883.975 |        4.8 |     61.665\n",
    "#     4 | 906006020    |   55913.67 |  55915.041 |       5.73 |     60.596\n",
    "\n",
    "# ---- NUSTAR ---- #\n",
    "# num   | obsid        | mjd_s      | mjd_e      | rat        | exp       \n",
    "#     1 | 60001111002  |  56243.264 |  56243.765 |       7.64 |     21.864\n",
    "#     2 | 60001111003  |  56243.792 |  56245.045 |       7.17 |     57.036\n",
    "#     3 | 60001111005  |  56245.345 |   56246.73 |       8.26 |     61.531\n"
   ]
  }
 ],
 "metadata": {
  "kernelspec": {
   "display_name": "Python 3",
   "language": "python",
   "name": "python3"
  },
  "language_info": {
   "codemirror_mode": {
    "name": "ipython",
    "version": 3
   },
   "file_extension": ".py",
   "mimetype": "text/x-python",
   "name": "python",
   "nbconvert_exporter": "python",
   "pygments_lexer": "ipython3",
   "version": "3.7.0"
  }
 },
 "nbformat": 4,
 "nbformat_minor": 2
}
